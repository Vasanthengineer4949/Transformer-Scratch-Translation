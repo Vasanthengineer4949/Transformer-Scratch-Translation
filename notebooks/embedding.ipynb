{
 "cells": [
  {
   "cell_type": "code",
   "execution_count": 1,
   "metadata": {},
   "outputs": [],
   "source": [
    "import torch\n",
    "import torch.nn as nn"
   ]
  },
  {
   "cell_type": "code",
   "execution_count": 3,
   "metadata": {},
   "outputs": [],
   "source": [
    "class TokenEmbeddings(nn.Module):\n",
    "    \n",
    "    def __init__(self, d_model: int, vocab_size: int) -> nn.Embedding:\n",
    "        \n",
    "        '''\n",
    "        Computes the token embeddings for input tokens\n",
    "        \n",
    "        Args:\n",
    "        d_model - Input representation(Embedding) dimension\n",
    "        vocab_size - Size of vocabulary\n",
    "        \n",
    "        Returns:\n",
    "        token_embedding - Embedding of Input Tokens\n",
    "        '''\n",
    "        \n",
    "        super().__init__()\n",
    "        self.d_model = d_model\n",
    "        self.vocab_size = vocab_size\n",
    "        self.embedding = nn.Embedding(\n",
    "                                        num_embeddings=vocab_size,\n",
    "                                        embedding_dim=d_model\n",
    "                                    ) # Shape: (vocab_size, embed_dim)\n",
    "        \n",
    "    def forward(self, x: torch.Tensor):\n",
    "        token_embedding = self.embedding(x) # Embedding created using Embedding class of Torch\n",
    "        return token_embedding"
   ]
  },
  {
   "cell_type": "code",
   "execution_count": 4,
   "metadata": {},
   "outputs": [],
   "source": [
    "class PositionalEncoding(nn.Module):\n",
    "    \n",
    "    def __init__(self, d_model: int, seq_len: int, dropout_p: float) -> None:\n",
    "        \n",
    "        '''\n",
    "        Computes the Positional Encoding for the Input Tokens positions\n",
    "        \n",
    "        Args:\n",
    "        d_model - Embedding dimension\n",
    "        seq_len - Number of tokens in the input sequence\n",
    "        dropout - Dropout value\n",
    "        \n",
    "        Returns:\n",
    "        pos_encoding - Encoded position values\n",
    "        '''\n",
    "        \n",
    "        super().__init__()\n",
    "        \n",
    "        self.d_model = d_model\n",
    "        self.seq_len = seq_len\n",
    "        self.dropout_p = dropout_p\n",
    "        \n",
    "        self.dropout = nn.Dropout(self.dropout_p) # Dropout layer\n",
    "        position_encodings = torch.zeros(self.seq_len, self.d_model) # Shape: (seq_len, d_model)\n",
    "        positions = torch.arange(0, self.seq_len, dtype=torch.float).unsqueeze(0) # Shape: (seq_len) -> (seq_len, 1)\n",
    "        even_odd_i = torch.arange(0, self.d_model, 2).float() # 2i # Shape: (d_model/2)\n",
    "        div_freqs_term = torch.pow(10000, even_odd_i/d_model) # 10000**2i/dmodel\n",
    "        position_encodings[:, 0::2] = torch.sin(positions*div_freqs_term) # Shape: (seq_len, d_model)\n",
    "        position_encodings[:, 1::2] = torch.cos(positions*div_freqs_term) # Shape: (seq_len, d_model)\n",
    "        position_encodings = position_encodings.unsqueeze(0) # Shape: (1, seq_len, d_model)\n",
    "        self.register_buffer(position_encodings) # to be a part of module state but not a parameter of module\n",
    "        \n",
    "    def forward(self, x):\n",
    "        x = x + (self.position_encodings[:, :x.shape[1], :]).requires_grad_(False) # Adding positional encodings\n",
    "        pos_encoding = self.dropout(x)\n",
    "        return pos_encoding"
   ]
  },
  {
   "cell_type": "code",
   "execution_count": null,
   "metadata": {},
   "outputs": [],
   "source": []
  }
 ],
 "metadata": {
  "kernelspec": {
   "display_name": "langchainenv",
   "language": "python",
   "name": "python3"
  },
  "language_info": {
   "codemirror_mode": {
    "name": "ipython",
    "version": 3
   },
   "file_extension": ".py",
   "mimetype": "text/x-python",
   "name": "python",
   "nbconvert_exporter": "python",
   "pygments_lexer": "ipython3",
   "version": "3.11.4"
  },
  "orig_nbformat": 4
 },
 "nbformat": 4,
 "nbformat_minor": 2
}
